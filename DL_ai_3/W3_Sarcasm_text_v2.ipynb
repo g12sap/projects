{
  "nbformat": 4,
  "nbformat_minor": 0,
  "metadata": {
    "colab": {
      "name": "W3_Sarcasm_text_v2",
      "provenance": [],
      "authorship_tag": "ABX9TyMji2BbrncEFp6qIGO2yPa3",
      "include_colab_link": true
    },
    "kernelspec": {
      "name": "python3",
      "display_name": "Python 3"
    }
  },
  "cells": [
    {
      "cell_type": "markdown",
      "metadata": {
        "id": "view-in-github",
        "colab_type": "text"
      },
      "source": [
        "<a href=\"https://colab.research.google.com/github/Gth1205/projects/blob/master/DL_ai_3/W3_Sarcasm_text_v2.ipynb\" target=\"_parent\"><img src=\"https://colab.research.google.com/assets/colab-badge.svg\" alt=\"Open In Colab\"/></a>"
      ]
    },
    {
      "cell_type": "code",
      "metadata": {
        "id": "HZi3SxLMyWUk",
        "colab_type": "code",
        "colab": {}
      },
      "source": [
        "#Sarcasm workbook\n",
        "\n",
        "import json\n",
        "import tensorflow as tf\n",
        "\n",
        "from tensorflow.keras.preprocessing.text import Tokenizer\n",
        "from tensorflow.keras.preprocessing.sequence import pad_sequences\n",
        "\n"
      ],
      "execution_count": 4,
      "outputs": []
    },
    {
      "cell_type": "code",
      "metadata": {
        "id": "4Nyas7Beyol5",
        "colab_type": "code",
        "colab": {}
      },
      "source": [
        "#Setting up hyperparameters\n",
        "\n",
        "vocab_size = 10000\n",
        "embedding_dim = 16\n",
        "max_length = 32\n",
        "trunc_type = 'post'\n",
        "padding_type = 'post'\n",
        "oov_token = \"<OOV>\"\n",
        "training_size = 20000"
      ],
      "execution_count": 14,
      "outputs": []
    },
    {
      "cell_type": "code",
      "metadata": {
        "id": "k9UJ7VkxzBTd",
        "colab_type": "code",
        "colab": {
          "base_uri": "https://localhost:8080/",
          "height": 202
        },
        "outputId": "f164f4be-1477-4818-b06c-0b49a7940c1f"
      },
      "source": [
        "!wget --no-check-certificate \\\n",
        "    https://storage.googleapis.com/laurencemoroney-blog.appspot.com/sarcasm.json \\\n",
        "    -O /tmp/sarcasm.json"
      ],
      "execution_count": 15,
      "outputs": [
        {
          "output_type": "stream",
          "text": [
            "--2020-06-27 18:14:33--  https://storage.googleapis.com/laurencemoroney-blog.appspot.com/sarcasm.json\n",
            "Resolving storage.googleapis.com (storage.googleapis.com)... 64.233.189.128, 108.177.125.128, 74.125.23.128, ...\n",
            "Connecting to storage.googleapis.com (storage.googleapis.com)|64.233.189.128|:443... connected.\n",
            "HTTP request sent, awaiting response... 200 OK\n",
            "Length: 5643545 (5.4M) [application/json]\n",
            "Saving to: ‘/tmp/sarcasm.json’\n",
            "\n",
            "\r/tmp/sarcasm.json     0%[                    ]       0  --.-KB/s               \r/tmp/sarcasm.json   100%[===================>]   5.38M  --.-KB/s    in 0.06s   \n",
            "\n",
            "2020-06-27 18:14:33 (97.8 MB/s) - ‘/tmp/sarcasm.json’ saved [5643545/5643545]\n",
            "\n"
          ],
          "name": "stdout"
        }
      ]
    },
    {
      "cell_type": "code",
      "metadata": {
        "id": "n4p3dyT94Vxt",
        "colab_type": "code",
        "colab": {}
      },
      "source": [
        "with open(\"/tmp/sarcasm.json\",'r') as f:\n",
        "  datastore = json.load(f)\n",
        "\n",
        "sentences = []\n",
        "labels = []\n",
        "\n",
        "for item in datastore:\n",
        "  sentences.append(item['headline'])\n",
        "  labels.append(item['is_sarcastic'])"
      ],
      "execution_count": 16,
      "outputs": []
    },
    {
      "cell_type": "code",
      "metadata": {
        "id": "W68lAePe4uNk",
        "colab_type": "code",
        "colab": {}
      },
      "source": [
        "#Building a classifier for the sarcasm dataset\n",
        "\n",
        "training_sentences = sentences[0:training_size]\n",
        "testing_sentences = sentences[training_size:]\n",
        "training_labels = labels[0:training_size]\n",
        "testing_labels = labels[training_size:]\n",
        "\n",
        "\n"
      ],
      "execution_count": 18,
      "outputs": []
    },
    {
      "cell_type": "code",
      "metadata": {
        "id": "vPgQ5NzN5PQY",
        "colab_type": "code",
        "colab": {}
      },
      "source": [
        "tokenizer = Tokenizer(num_words = vocab_size, oov_token = oov_token)\n",
        "tokenizer.fit_on_texts(training_sentences)\n",
        "\n",
        "word_index = tokenizer.word_index\n",
        "\n",
        "training_sequences = tokenizer.texts_to_sequences(training_sentences)\n",
        "training_padded = pad_sequences(training_sequences, maxlen = max_length, padding = padding_type, truncating = trunc_type)\n",
        "\n",
        "testing_sequences = tokenizer.texts_to_sequences(testing_sentences)\n",
        "testing_padded = pad_sequences(testing_sequences, maxlen = max_length, padding = padding_type, truncating = trunc_type)"
      ],
      "execution_count": 19,
      "outputs": []
    },
    {
      "cell_type": "code",
      "metadata": {
        "id": "XWo650Uy_ie1",
        "colab_type": "code",
        "colab": {}
      },
      "source": [
        "# Need this block to get it to work with TensorFlow 2.x\n",
        "import numpy as np\n",
        "training_padded = np.array(training_padded)\n",
        "training_labels = np.array(training_labels)\n",
        "testing_padded = np.array(testing_padded)\n",
        "testing_labels = np.array(testing_labels)"
      ],
      "execution_count": 22,
      "outputs": []
    },
    {
      "cell_type": "code",
      "metadata": {
        "id": "XKU8oTEp8ejX",
        "colab_type": "code",
        "colab": {}
      },
      "source": [
        "#Our NN Model\n",
        "\n",
        "model = tf.keras.Sequential([\n",
        "                             tf.keras.layers.Embedding(vocab_size, embedding_dim, input_length=max_length),\n",
        "                             tf.keras.layers.GlobalAveragePooling1D(),\n",
        "                             tf.keras.layers.Dense(24, activation= 'relu'),\n",
        "                             tf.keras.layers.Dense(1, activation = 'sigmoid')\n",
        "\n",
        "])\n",
        "\n",
        "\n",
        "model.compile(loss ='binary_crossentropy', optimizer = 'adam', metrics = ['accuracy'])"
      ],
      "execution_count": 23,
      "outputs": []
    },
    {
      "cell_type": "code",
      "metadata": {
        "id": "iOKZlSb59SQ_",
        "colab_type": "code",
        "colab": {
          "base_uri": "https://localhost:8080/",
          "height": 1000
        },
        "outputId": "3260a0c6-c011-495f-a9d9-af2a9c3f20bf"
      },
      "source": [
        "num_epochs = 30\n",
        "\n",
        "history = model.fit(training_padded, training_labels, epochs = num_epochs, validation_data = (testing_padded, testing_labels), verbose = 2)"
      ],
      "execution_count": 24,
      "outputs": [
        {
          "output_type": "stream",
          "text": [
            "Epoch 1/30\n",
            "625/625 - 2s - loss: 0.5711 - accuracy: 0.6978 - val_loss: 0.4018 - val_accuracy: 0.8360\n",
            "Epoch 2/30\n",
            "625/625 - 2s - loss: 0.3156 - accuracy: 0.8746 - val_loss: 0.3433 - val_accuracy: 0.8569\n",
            "Epoch 3/30\n",
            "625/625 - 2s - loss: 0.2357 - accuracy: 0.9085 - val_loss: 0.3411 - val_accuracy: 0.8575\n",
            "Epoch 4/30\n",
            "625/625 - 2s - loss: 0.1891 - accuracy: 0.9274 - val_loss: 0.3776 - val_accuracy: 0.8426\n",
            "Epoch 5/30\n",
            "625/625 - 2s - loss: 0.1574 - accuracy: 0.9414 - val_loss: 0.3846 - val_accuracy: 0.8536\n",
            "Epoch 6/30\n",
            "625/625 - 2s - loss: 0.1330 - accuracy: 0.9523 - val_loss: 0.4178 - val_accuracy: 0.8462\n",
            "Epoch 7/30\n",
            "625/625 - 2s - loss: 0.1140 - accuracy: 0.9608 - val_loss: 0.4559 - val_accuracy: 0.8429\n",
            "Epoch 8/30\n",
            "625/625 - 2s - loss: 0.0986 - accuracy: 0.9668 - val_loss: 0.4969 - val_accuracy: 0.8386\n",
            "Epoch 9/30\n",
            "625/625 - 2s - loss: 0.0847 - accuracy: 0.9725 - val_loss: 0.5460 - val_accuracy: 0.8365\n",
            "Epoch 10/30\n",
            "625/625 - 2s - loss: 0.0732 - accuracy: 0.9768 - val_loss: 0.6111 - val_accuracy: 0.8271\n",
            "Epoch 11/30\n",
            "625/625 - 2s - loss: 0.0654 - accuracy: 0.9796 - val_loss: 0.6411 - val_accuracy: 0.8286\n",
            "Epoch 12/30\n",
            "625/625 - 2s - loss: 0.0569 - accuracy: 0.9823 - val_loss: 0.6956 - val_accuracy: 0.8249\n",
            "Epoch 13/30\n",
            "625/625 - 2s - loss: 0.0493 - accuracy: 0.9848 - val_loss: 0.7564 - val_accuracy: 0.8210\n",
            "Epoch 14/30\n",
            "625/625 - 2s - loss: 0.0441 - accuracy: 0.9870 - val_loss: 0.7962 - val_accuracy: 0.8220\n",
            "Epoch 15/30\n",
            "625/625 - 2s - loss: 0.0377 - accuracy: 0.9891 - val_loss: 0.8576 - val_accuracy: 0.8186\n",
            "Epoch 16/30\n",
            "625/625 - 2s - loss: 0.0358 - accuracy: 0.9901 - val_loss: 0.9049 - val_accuracy: 0.8170\n",
            "Epoch 17/30\n",
            "625/625 - 2s - loss: 0.0311 - accuracy: 0.9912 - val_loss: 0.9584 - val_accuracy: 0.8153\n",
            "Epoch 18/30\n",
            "625/625 - 2s - loss: 0.0256 - accuracy: 0.9936 - val_loss: 1.0232 - val_accuracy: 0.8135\n",
            "Epoch 19/30\n",
            "625/625 - 2s - loss: 0.0230 - accuracy: 0.9940 - val_loss: 1.0901 - val_accuracy: 0.8103\n",
            "Epoch 20/30\n",
            "625/625 - 2s - loss: 0.0202 - accuracy: 0.9945 - val_loss: 1.1380 - val_accuracy: 0.8111\n",
            "Epoch 21/30\n",
            "625/625 - 2s - loss: 0.0185 - accuracy: 0.9949 - val_loss: 1.2031 - val_accuracy: 0.8107\n",
            "Epoch 22/30\n",
            "625/625 - 2s - loss: 0.0177 - accuracy: 0.9946 - val_loss: 1.2618 - val_accuracy: 0.8083\n",
            "Epoch 23/30\n",
            "625/625 - 2s - loss: 0.0150 - accuracy: 0.9962 - val_loss: 1.3285 - val_accuracy: 0.8083\n",
            "Epoch 24/30\n",
            "625/625 - 2s - loss: 0.0133 - accuracy: 0.9964 - val_loss: 1.3985 - val_accuracy: 0.8046\n",
            "Epoch 25/30\n",
            "625/625 - 2s - loss: 0.0124 - accuracy: 0.9968 - val_loss: 1.4542 - val_accuracy: 0.8043\n",
            "Epoch 26/30\n",
            "625/625 - 2s - loss: 0.0128 - accuracy: 0.9963 - val_loss: 1.5094 - val_accuracy: 0.8055\n",
            "Epoch 27/30\n",
            "625/625 - 2s - loss: 0.0100 - accuracy: 0.9975 - val_loss: 1.5794 - val_accuracy: 0.8065\n",
            "Epoch 28/30\n",
            "625/625 - 2s - loss: 0.0098 - accuracy: 0.9973 - val_loss: 1.6480 - val_accuracy: 0.8032\n",
            "Epoch 29/30\n",
            "625/625 - 2s - loss: 0.0084 - accuracy: 0.9977 - val_loss: 1.6962 - val_accuracy: 0.8043\n",
            "Epoch 30/30\n",
            "625/625 - 2s - loss: 0.0091 - accuracy: 0.9974 - val_loss: 1.7596 - val_accuracy: 0.8012\n"
          ],
          "name": "stdout"
        }
      ]
    },
    {
      "cell_type": "code",
      "metadata": {
        "id": "4zS0fHZk9mCv",
        "colab_type": "code",
        "colab": {
          "base_uri": "https://localhost:8080/",
          "height": 541
        },
        "outputId": "c4e0b46e-07e2-4a3c-92e1-be4336ab4537"
      },
      "source": [
        "#Plotting the results\n",
        "\n",
        "import matplotlib.pyplot as plt\n",
        "\n",
        "def plot_graphs(history, string):\n",
        "  plt.plot(history.history[string])\n",
        "  plt.plot(history.history['val_' + string])\n",
        "  plt.xlabel(\"Epochs\")\n",
        "  plt.ylabel(string)\n",
        "  plt.legend([string, 'val_' + string])\n",
        "  plt.show()\n",
        "\n",
        "\n",
        "plot_graphs(history, \"accuracy\")\n",
        "plot_graphs(history, \"loss\")"
      ],
      "execution_count": 26,
      "outputs": [
        {
          "output_type": "display_data",
          "data": {
            "image/png": "[encoded data removed]",
            "text/plain": [
              "<Figure size 432x288 with 1 Axes>"
            ]
          },
          "metadata": {
            "tags": [],
            "needs_background": "light"
          }
        },
        {
          "output_type": "display_data",
          "data": {
            "image/png": "[encoded data removed]",
            "text/plain": [
              "<Figure size 432x288 with 1 Axes>"
            ]
          },
          "metadata": {
            "tags": [],
            "needs_background": "light"
          }
        }
      ]
    },
    {
      "cell_type": "code",
      "metadata": {
        "id": "yy6GykhkAbbS",
        "colab_type": "code",
        "colab": {
          "base_uri": "https://localhost:8080/",
          "height": 50
        },
        "outputId": "00e09ee3-1af5-4153-e8b1-e8a80ac71a9b"
      },
      "source": [
        "sentence = [\"granny starting to fear spiders in the garden might be real\", \"game of thrones season finale showing this sunday night\"]\n",
        "sequences = tokenizer.texts_to_sequences(sentence)\n",
        "padded = pad_sequences(sequences, maxlen=max_length, padding=padding_type, truncating=trunc_type)\n",
        "print(model.predict(padded))"
      ],
      "execution_count": 27,
      "outputs": [
        {
          "output_type": "stream",
          "text": [
            "[[9.9977940e-01]\n",
            " [2.1084846e-08]]\n"
          ],
          "name": "stdout"
        }
      ]
    },
    {
      "cell_type": "code",
      "metadata": {
        "id": "lIHOSf65Ai4y",
        "colab_type": "code",
        "colab": {}
      },
      "source": [
        ""
      ],
      "execution_count": null,
      "outputs": []
    }
  ]
}