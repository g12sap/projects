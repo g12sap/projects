{
  "nbformat": 4,
  "nbformat_minor": 0,
  "metadata": {
    "colab": {
      "name": "Week_4_test",
      "provenance": [],
      "authorship_tag": "ABX9TyPhCdIsvyiZujFxx5c1f1tV",
      "include_colab_link": true
    },
    "kernelspec": {
      "name": "python3",
      "display_name": "Python 3"
    }
  },
  "cells": [
    {
      "cell_type": "markdown",
      "metadata": {
        "id": "view-in-github",
        "colab_type": "text"
      },
      "source": [
        "<a href=\"https://colab.research.google.com/github/Gth1205/projects/blob/master/Week_4_test.ipynb\" target=\"_parent\"><img src=\"https://colab.research.google.com/assets/colab-badge.svg\" alt=\"Open In Colab\"/></a>"
      ]
    },
    {
      "cell_type": "code",
      "metadata": {
        "id": "MhQsyasWEehy",
        "colab_type": "code",
        "colab": {
          "base_uri": "https://localhost:8080/",
          "height": 202
        },
        "outputId": "cabda458-69c8-4ea5-a5ec-8e949361942c"
      },
      "source": [
        "import tensorflow as tf\n",
        "import os\n",
        "import zipfile\n",
        "from os import path, getcwd, chdir\n",
        "\n",
        "path = f\"{getcwd()}/../tmp2/happy-or-sad.zip\"\n",
        "\n",
        "!wget --no-check-certificate \\\n",
        "    \"https://storage.googleapis.com/laurencemoroney-blog.appspot.com/happy-or-sad.zip\" \\\n",
        "    -O \"/tmp/happy-or-sad.zip\"\n",
        "\n",
        "zip_ref = zipfile.ZipFile(\"/tmp/happy-or-sad.zip\", 'r')\n",
        "zip_ref.extractall(\"/tmp/h-or-s\")\n",
        "zip_ref.close()\n",
        "\n",
        "\n"
      ],
      "execution_count": 22,
      "outputs": [
        {
          "output_type": "stream",
          "text": [
            "--2020-06-20 06:41:56--  https://storage.googleapis.com/laurencemoroney-blog.appspot.com/happy-or-sad.zip\n",
            "Resolving storage.googleapis.com (storage.googleapis.com)... 74.125.20.128, 2607:f8b0:400e:c00::80\n",
            "Connecting to storage.googleapis.com (storage.googleapis.com)|74.125.20.128|:443... connected.\n",
            "HTTP request sent, awaiting response... 200 OK\n",
            "Length: 2670333 (2.5M) [application/zip]\n",
            "Saving to: ‘/tmp/happy-or-sad.zip’\n",
            "\n",
            "\r/tmp/happy-or-sad.z   0%[                    ]       0  --.-KB/s               \r/tmp/happy-or-sad.z 100%[===================>]   2.55M  --.-KB/s    in 0.01s   \n",
            "\n",
            "2020-06-20 06:41:56 (173 MB/s) - ‘/tmp/happy-or-sad.zip’ saved [2670333/2670333]\n",
            "\n"
          ],
          "name": "stdout"
        }
      ]
    },
    {
      "cell_type": "code",
      "metadata": {
        "id": "04eRpzCcKNs8",
        "colab_type": "code",
        "colab": {
          "base_uri": "https://localhost:8080/",
          "height": 34
        },
        "outputId": "9dcdbd62-54f1-4347-e7b2-cdc7b8eab9c2"
      },
      "source": [
        "  DESIRED_ACCURACY = 0.999\n",
        "\n",
        "  class myCallback(tf.keras.callbacks.Callback):\n",
        "    def on_epoch_end(self, epoch, logs = {}):\n",
        "      if (logs.get('acc')>DESIRED_ACCURACY):\n",
        "        print(\"\\nReached 99% accuracy so cancelling training\")\n",
        "        self.model.stop_training = True\n",
        "  \n",
        "  callbacks = myCallback()\n",
        "  \n",
        "  model = tf.keras.models.Sequential([\n",
        "          #first convolution\n",
        "          tf.keras.layers.Conv2D(16, (3,3), activation = 'relu', input_shape = (150,150,3)),\n",
        "          tf.keras.layers.MaxPooling2D(2,2),\n",
        "          #second convolution\n",
        "          tf.keras.layers.Conv2D(32, (3,3), activation = 'relu'),\n",
        "          tf.keras.layers.MaxPooling2D(2,2),\n",
        "          #third convolution\n",
        "          tf.keras.layers.Conv2D(32, (3,3), activation = 'relu'),\n",
        "          tf.keras.layers.MaxPooling2D(2,2),\n",
        "          #Flatten the results \n",
        "          tf.keras.layers.Flatten(),\n",
        "          tf.keras.layers.Dense(512, activation = 'relu'),\n",
        "          tf.keras.layers.Dense(1, activation = 'sigmoid')\n",
        "  ])\n",
        "\n",
        "  from tensorflow.keras.optimizers import RMSprop\n",
        "\n",
        "  model.compile(loss= 'binary_crossentropy',\n",
        "              optimizer = RMSprop(lr=0.001),\n",
        "              metrics = ['acc'])\n",
        "\n",
        "\n",
        "  from tensorflow.keras.preprocessing.image import ImageDataGenerator\n",
        "  #rescaling all images by 1./255\n",
        "  train_datagen = ImageDataGenerator(rescale = 1/255)\n",
        "  #Flow training images in batches of 128 using train_datagen generator\n",
        "  train_generator = train_datagen.flow_from_directory(\n",
        "    '/tmp/h-or-s',\n",
        "    target_size = (150,150),\n",
        "    batch_size = 10,\n",
        "    class_mode = 'binary')\n"
      ],
      "execution_count": 23,
      "outputs": [
        {
          "output_type": "stream",
          "text": [
            "Found 80 images belonging to 2 classes.\n"
          ],
          "name": "stdout"
        }
      ]
    },
    {
      "cell_type": "code",
      "metadata": {
        "id": "_y-Tf9FAWUdC",
        "colab_type": "code",
        "colab": {
          "base_uri": "https://localhost:8080/",
          "height": 420
        },
        "outputId": "0c460bad-00aa-45aa-9f4d-b8fa3a81c4ac"
      },
      "source": [
        "  history = model.fit(train_generator, steps_per_epoch = 2, epochs = 15, verbose =1, callbacks = [callbacks])\n",
        "\n",
        "  "
      ],
      "execution_count": 24,
      "outputs": [
        {
          "output_type": "stream",
          "text": [
            "Epoch 1/15\n",
            "2/2 [==============================] - 0s 119ms/step - loss: 2.8946 - acc: 0.5500\n",
            "Epoch 2/15\n",
            "2/2 [==============================] - 0s 112ms/step - loss: 1.3269 - acc: 0.4500\n",
            "Epoch 3/15\n",
            "2/2 [==============================] - 0s 111ms/step - loss: 0.5745 - acc: 0.8000\n",
            "Epoch 4/15\n",
            "2/2 [==============================] - 0s 109ms/step - loss: 0.5389 - acc: 0.8500\n",
            "Epoch 5/15\n",
            "2/2 [==============================] - 0s 111ms/step - loss: 0.5806 - acc: 0.4500\n",
            "Epoch 6/15\n",
            "2/2 [==============================] - 0s 119ms/step - loss: 0.3906 - acc: 0.7000\n",
            "Epoch 7/15\n",
            "2/2 [==============================] - 0s 109ms/step - loss: 0.5117 - acc: 0.5500\n",
            "Epoch 8/15\n",
            "2/2 [==============================] - 0s 111ms/step - loss: 0.2324 - acc: 0.9500\n",
            "Epoch 9/15\n",
            "2/2 [==============================] - 0s 110ms/step - loss: 0.1883 - acc: 0.9500\n",
            "Epoch 10/15\n",
            "2/2 [==============================] - 0s 113ms/step - loss: 0.1825 - acc: 0.9500\n",
            "Epoch 11/15\n",
            "2/2 [==============================] - ETA: 0s - loss: 0.1331 - acc: 1.0000\n",
            "Reached 99% accuracy so cancelling training\n",
            "2/2 [==============================] - 0s 113ms/step - loss: 0.1331 - acc: 1.0000\n"
          ],
          "name": "stdout"
        }
      ]
    },
    {
      "cell_type": "code",
      "metadata": {
        "id": "nTZN_yb7QZeo",
        "colab_type": "code",
        "colab": {
          "base_uri": "https://localhost:8080/",
          "height": 34
        },
        "outputId": "a17beaff-ade3-4437-84a7-1f4fc3c3a9f8"
      },
      "source": [
        "train_happy_sad_model()"
      ],
      "execution_count": 25,
      "outputs": [
        {
          "output_type": "stream",
          "text": [
            "Found 80 images belonging to 2 classes.\n"
          ],
          "name": "stdout"
        }
      ]
    },
    {
      "cell_type": "code",
      "metadata": {
        "id": "ablQbS_BQsUA",
        "colab_type": "code",
        "colab": {}
      },
      "source": [
        ""
      ],
      "execution_count": 25,
      "outputs": []
    }
  ]
}