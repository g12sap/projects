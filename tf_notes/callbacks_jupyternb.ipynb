{
  "nbformat": 4,
  "nbformat_minor": 0,
  "metadata": {
    "kernelspec": {
      "display_name": "Python 3",
      "language": "python",
      "name": "python3"
    },
    "language_info": {
      "codemirror_mode": {
        "name": "ipython",
        "version": 3
      },
      "file_extension": ".py",
      "mimetype": "text/x-python",
      "name": "python",
      "nbconvert_exporter": "python",
      "pygments_lexer": "ipython3",
      "version": "3.7.7"
    },
    "colab": {
      "name": "callbacks_jupyternb.ipynb",
      "provenance": [],
      "include_colab_link": true
    }
  },
  "cells": [
    {
      "cell_type": "markdown",
      "metadata": {
        "id": "view-in-github",
        "colab_type": "text"
      },
      "source": [
        "<a href=\"https://colab.research.google.com/github/Gth1205/projects/blob/master/tf_notes/callbacks_jupyternb.ipynb\" target=\"_parent\"><img src=\"https://colab.research.google.com/assets/colab-badge.svg\" alt=\"Open In Colab\"/></a>"
      ]
    },
    {
      "cell_type": "markdown",
      "metadata": {
        "id": "6Qj9q0GrhkYb",
        "colab_type": "text"
      },
      "source": [
        "# Callbacks\n",
        "\n",
        "Callback is used to customize the behavior of Keras model during training, evaluation or inference. When training a DL model, if we wish to stop the training once a certain accuracy reaches the desired threshold. This helps in arriving at optimal model weights and avoiding over use of trianing time and resources. \n",
        "\n",
        "### Setup\n",
        "First, import tensorflow and keras.\n",
        "```python\n",
        "import tensorflow as tf\n",
        "from tensorflow import keras\n",
        "```\n",
        "### Implement\n",
        "Implement the classback class to stop training when accuract reaches __95%__.\n",
        "```python\n",
        "class myCallback(tf.keras.callbacks.Callback):\n",
        "    def on_epoch_end(self, epoch, logs = {}):\n",
        "        if(logs.get('accuracy')> 0.95):\n",
        "            print(\"\\n Reached 95% accuracy so cancelling training!\")\n",
        "            self.model.stop_training = True\n",
        "```\n",
        "### Instantiate.\n",
        "```python\n",
        "callbacks = myCallback()\n",
        "```\n",
        "We can pass a list of callbacks(as the keyword argument `callbacks`) to the following model methods:\n",
        "- `keras.Model.fit()`\n",
        "- `keras.Model.evaluate()`\n",
        "- `keras.Model.predict()`\n",
        "For our example, we use it on the `model.fit()`\n",
        "\n",
        "```python\n",
        "model.fit(x_train, y_train, epochs = 10, callbacks = [callbacks])\n",
        "```\n",
        "\n",
        "### Code"
      ]
    },
    {
      "cell_type": "code",
      "metadata": {
        "id": "RtB1F9t_hkYc",
        "colab_type": "code",
        "colab": {}
      },
      "source": [
        "import tensorflow as tf\n",
        " \n",
        "class myCallback(tf.keras.callbacks.Callback):\n",
        "    def on_epoch_end(self, epoch, logs = {}):\n",
        "        if(logs.get('accuracy')> 0.95):\n",
        "            print(\"\\n Reached 95% accuracy so cancelling training!\")\n",
        "            self.model.stop_training = True\n",
        " \n",
        "mnist = tf.keras.datasets.mnist\n",
        " \n",
        "(x_train, y_train),  (x_test, y_test) = mnist.load_data()\n",
        "x_train, x_test = x_train / 255.0, x_test / 255.0\n",
        " \n",
        "callbacks = myCallback()\n",
        " \n",
        "model = tf.keras.models.Sequential([\n",
        "    tf.keras.layers.Flatten(input_shape= (28,28)),\n",
        "    tf.keras.layers.Dense(512, activation=tf.nn.relu),\n",
        "    tf.keras.layers.Dense(10, activation= tf.nn.softmax)\n",
        "])\n",
        "model.compile(optimizer= 'adam',\n",
        "              loss = 'sparse_categorical_crossentropy',\n",
        "              metrics = ['accuracy'])\n",
        "model.fit(x_train, y_train, epochs = 10, callbacks = [callbacks])"
      ],
      "execution_count": null,
      "outputs": []
    }
  ]
}