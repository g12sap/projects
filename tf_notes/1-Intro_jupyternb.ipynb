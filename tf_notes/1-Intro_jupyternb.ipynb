{
  "nbformat": 4,
  "nbformat_minor": 0,
  "metadata": {
    "kernelspec": {
      "display_name": "Python 3",
      "language": "python",
      "name": "python3"
    },
    "language_info": {
      "codemirror_mode": {
        "name": "ipython",
        "version": 3
      },
      "file_extension": ".py",
      "mimetype": "text/x-python",
      "name": "python",
      "nbconvert_exporter": "python",
      "pygments_lexer": "ipython3",
      "version": "3.7.7"
    },
    "colab": {
      "name": "1-Intro_jupyternb.ipynb",
      "provenance": [],
      "include_colab_link": true
    }
  },
  "cells": [
    {
      "cell_type": "markdown",
      "metadata": {
        "id": "view-in-github",
        "colab_type": "text"
      },
      "source": [
        "<a href=\"https://colab.research.google.com/github/Gth1205/projects/blob/master/tf_notes/1-Intro_jupyternb.ipynb\" target=\"_parent\"><img src=\"https://colab.research.google.com/assets/colab-badge.svg\" alt=\"Open In Colab\"/></a>"
      ]
    },
    {
      "cell_type": "markdown",
      "metadata": {
        "id": "C4tVgGVumtSz",
        "colab_type": "text"
      },
      "source": [
        "# Introduction to TensorFlow for Artificial Intelligence, Machine Learning and Deep Learning\n",
        "\n",
        "__Machine Learning__: Feed data and expected output to a machine learning algorithm and rules are predicted to solve our problem.<br>\n",
        "__Neural Network__: It's an algorithm to learn patterns."
      ]
    },
    {
      "cell_type": "code",
      "metadata": {
        "id": "uMBNOi6ymtS0",
        "colab_type": "code",
        "colab": {}
      },
      "source": [
        "import numpy as np\n",
        "import pandas as pd\n",
        "import tensorflow as tf\n",
        "print(tf.__version__)\n",
        "\n",
        "from tensorflow import keras"
      ],
      "execution_count": null,
      "outputs": []
    },
    {
      "cell_type": "markdown",
      "metadata": {
        "id": "Rr9hBp_TmtS5",
        "colab_type": "text"
      },
      "source": [
        "## Implementing a Perceptron\n",
        "Below, we implement a simple neural network = __Perceptron__. It is indicated by Dense (units = 1), this indicates the shape of the story.\n",
        "<br>\n",
        "The complex math implemented in most machine learning is used in __TensorFlow__ as Functions.\n",
        "<br/>\n",
        "The two main functions are:\n",
        "- Loss Functions\n",
        "- Optimizers."
      ]
    },
    {
      "cell_type": "code",
      "metadata": {
        "id": "byfXQSvGmtS5",
        "colab_type": "code",
        "colab": {}
      },
      "source": [
        "model = keras.Sequential([keras.layers.Dense(units = 1, input_shape = [1])])\n",
        "model.compile(optimizer='sgd', loss = 'mean_squared_error')"
      ],
      "execution_count": null,
      "outputs": []
    },
    {
      "cell_type": "markdown",
      "metadata": {
        "id": "qgIZIJb7mtS8",
        "colab_type": "text"
      },
      "source": [
        "__Loss Function__: It is a measure of how much our prediction missed compared to the actual label.\n",
        "<br/>\n",
        "__Optimizer__: It takes in the input from the loss fuction and makes guesses, the logic here is that the guesses should be better and better.\n",
        "<br/>\n",
        "__Epochs__ : It gives the count of the training loop. \n",
        "\n",
        "- In this example, we have take the __loss function__ as __*mean squared error*__.\n",
        "- the __optimizer__ as __*SGD*__, stands for stochastic gradient descent."
      ]
    },
    {
      "cell_type": "code",
      "metadata": {
        "id": "HocQl5x4mtS9",
        "colab_type": "code",
        "colab": {}
      },
      "source": [
        "xs = np.array([-1.0, 0.0,1.0,2.0,3.0,4.0], dtype = float)\n",
        "ys = np.array([-3.0, -1.0, 1.0, 3.0,5.0,7.0], dtype = float)"
      ],
      "execution_count": null,
      "outputs": []
    },
    {
      "cell_type": "markdown",
      "metadata": {
        "id": "BewMe1Y9mtTA",
        "colab_type": "text"
      },
      "source": [
        "Here, we have two arrays of supposedly random number.If we look at them closely, the values in $ Y $ are a result of some manipulation of values in $ X $.\n",
        "\n",
        "Looking at it closely, we can chalk up a formula: \n",
        "$$ Y = (2x - 1) $$\n",
        "- Let's take the first value:\" $ -1.0 $. \". $ Y = (2 (-1.0)-1) $ , this gives us a value of $ -3.0 $ <br/>\n",
        "We can observe this simple formula holds true for the rest of the values."
      ]
    },
    {
      "cell_type": "code",
      "metadata": {
        "scrolled": false,
        "id": "ge6OwOxKmtTB",
        "colab_type": "code",
        "colab": {}
      },
      "source": [
        "model.fit(xs,ys, epochs = 1000)"
      ],
      "execution_count": null,
      "outputs": []
    },
    {
      "cell_type": "code",
      "metadata": {
        "id": "RBFAtcX1mtTE",
        "colab_type": "code",
        "colab": {}
      },
      "source": [
        "print(model.predict([10.0]))"
      ],
      "execution_count": null,
      "outputs": []
    },
    {
      "cell_type": "markdown",
      "metadata": {
        "id": "Nlnhgvj6mtTH",
        "colab_type": "text"
      },
      "source": [
        "Great! We predicted a value of $ 18.999891 $, this is close to 19. \n",
        "- Using the value $ 10 $ in our formula, $ Y = ( 2 (10.0) - 1) $, we should get a value of 19.\n",
        "\n",
        "#### Observation\n",
        "\n",
        "When we trained our example, we did not get the correct value, because:\n",
        "1. There is very less data (6 points)and they are very linear.\n",
        "2. We should use this on realistic data values. \n",
        "\n",
        "### Neural Networks, deal in probability ###"
      ]
    }
  ]
}