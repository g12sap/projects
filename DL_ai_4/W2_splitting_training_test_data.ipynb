{
  "nbformat": 4,
  "nbformat_minor": 0,
  "metadata": {
    "colab": {
      "name": "W2_splitting training/test_data",
      "provenance": [],
      "collapsed_sections": [],
      "authorship_tag": "ABX9TyPjiCIxQPyLIv9f0aIm8/NA",
      "include_colab_link": true
    },
    "kernelspec": {
      "name": "python3",
      "display_name": "Python 3"
    }
  },
  "cells": [
    {
      "cell_type": "markdown",
      "metadata": {
        "id": "view-in-github",
        "colab_type": "text"
      },
      "source": [
        "<a href=\"https://colab.research.google.com/github/Gth1205/projects/blob/master/DL_ai_4/W2_splitting_training_test_data.ipynb\" target=\"_parent\"><img src=\"https://colab.research.google.com/assets/colab-badge.svg\" alt=\"Open In Colab\"/></a>"
      ]
    },
    {
      "cell_type": "code",
      "metadata": {
        "id": "UTqm9TNd4xBn",
        "colab_type": "code",
        "colab": {
          "base_uri": "https://localhost:8080/",
          "height": 195
        },
        "outputId": "6838dc98-2f28-4f27-f326-d00959312588"
      },
      "source": [
        "import tensorflow as tf\n",
        "\n",
        "dataset = tf.data.Dataset.range(10)\n",
        "for val in dataset:\n",
        "  print(val.numpy())"
      ],
      "execution_count": 3,
      "outputs": [
        {
          "output_type": "stream",
          "text": [
            "0\n",
            "1\n",
            "2\n",
            "3\n",
            "4\n",
            "5\n",
            "6\n",
            "7\n",
            "8\n",
            "9\n"
          ],
          "name": "stdout"
        }
      ]
    },
    {
      "cell_type": "code",
      "metadata": {
        "id": "dnajrJ0m4_Z7",
        "colab_type": "code",
        "colab": {
          "base_uri": "https://localhost:8080/",
          "height": 195
        },
        "outputId": "a1898fb3-6f21-4661-cb42-f282f4fb6bd5"
      },
      "source": [
        "#Using dataset.window() to expand our dataset\n",
        "\n",
        "dataset = tf.data.Dataset.range(10)\n",
        "dataset = dataset.window(5, shift = 1)\n",
        "for window_dataset in dataset:\n",
        "  for val in window_dataset:\n",
        "    print(val.numpy(), end = \" \")\n",
        "  print()"
      ],
      "execution_count": 4,
      "outputs": [
        {
          "output_type": "stream",
          "text": [
            "0 1 2 3 4 \n",
            "1 2 3 4 5 \n",
            "2 3 4 5 6 \n",
            "3 4 5 6 7 \n",
            "4 5 6 7 8 \n",
            "5 6 7 8 9 \n",
            "6 7 8 9 \n",
            "7 8 9 \n",
            "8 9 \n",
            "9 \n"
          ],
          "name": "stdout"
        }
      ]
    },
    {
      "cell_type": "code",
      "metadata": {
        "id": "SijgACyk5hcB",
        "colab_type": "code",
        "colab": {
          "base_uri": "https://localhost:8080/",
          "height": 195
        },
        "outputId": "5fc34dda-2a1d-4724-eb33-6cd960c0a54d"
      },
      "source": [
        "\n",
        "dataset = tf.data.Dataset.range(10)\n",
        "dataset = dataset.window(9, shift = 1)\n",
        "for window_dataset in dataset:\n",
        "  for val in window_dataset:\n",
        "    print(val.numpy(), end = \" \")\n",
        "  print()"
      ],
      "execution_count": 8,
      "outputs": [
        {
          "output_type": "stream",
          "text": [
            "0 1 2 3 4 5 6 7 8 \n",
            "1 2 3 4 5 6 7 8 9 \n",
            "2 3 4 5 6 7 8 9 \n",
            "3 4 5 6 7 8 9 \n",
            "4 5 6 7 8 9 \n",
            "5 6 7 8 9 \n",
            "6 7 8 9 \n",
            "7 8 9 \n",
            "8 9 \n",
            "9 \n"
          ],
          "name": "stdout"
        }
      ]
    },
    {
      "cell_type": "code",
      "metadata": {
        "id": "02LzF8oH5pdS",
        "colab_type": "code",
        "colab": {
          "base_uri": "https://localhost:8080/",
          "height": 124
        },
        "outputId": "8e9ffe93-3eb4-4b48-e04a-04df0d078cc8"
      },
      "source": [
        "\n",
        "dataset = tf.data.Dataset.range(10)\n",
        "dataset = dataset.window(5, shift = 1, drop_remainder = True)\n",
        "for window_dataset in dataset:\n",
        "  for val in window_dataset:\n",
        "    print(val.numpy(), end = \" \")\n",
        "  print()"
      ],
      "execution_count": 10,
      "outputs": [
        {
          "output_type": "stream",
          "text": [
            "0 1 2 3 4 \n",
            "1 2 3 4 5 \n",
            "2 3 4 5 6 \n",
            "3 4 5 6 7 \n",
            "4 5 6 7 8 \n",
            "5 6 7 8 9 \n"
          ],
          "name": "stdout"
        }
      ]
    },
    {
      "cell_type": "code",
      "metadata": {
        "id": "tQsRrtrr55Du",
        "colab_type": "code",
        "colab": {
          "base_uri": "https://localhost:8080/",
          "height": 124
        },
        "outputId": "bf2034e0-b6c0-4726-ce03-7cb75e56705c"
      },
      "source": [
        "dataset = tf.data.Dataset.range(10)\n",
        "dataset = dataset.window(5, shift =1, drop_remainder=True)\n",
        "dataset = dataset.flat_map(lambda window: window.batch(5))\n",
        "for window in dataset:\n",
        "  print(window.numpy())"
      ],
      "execution_count": 11,
      "outputs": [
        {
          "output_type": "stream",
          "text": [
            "[0 1 2 3 4]\n",
            "[1 2 3 4 5]\n",
            "[2 3 4 5 6]\n",
            "[3 4 5 6 7]\n",
            "[4 5 6 7 8]\n",
            "[5 6 7 8 9]\n"
          ],
          "name": "stdout"
        }
      ]
    },
    {
      "cell_type": "code",
      "metadata": {
        "id": "QGxis_wA6c6w",
        "colab_type": "code",
        "colab": {
          "base_uri": "https://localhost:8080/",
          "height": 124
        },
        "outputId": "0ac40bc8-5c86-4365-91ac-8421a00b6f24"
      },
      "source": [
        "#Splitting this numpy list into features (xs) and labels(ys)\n",
        "\n",
        "dataset = tf.data.Dataset.range(10)\n",
        "dataset = dataset.window(5, shift = 1, drop_remainder= True)\n",
        "dataset = dataset.flat_map(lambda window: window.batch(5))\n",
        "dataset = dataset.map(lambda window: (window[:-1], window[-1:])) #splitting into features and labels\n",
        "for x,y in dataset:\n",
        "  print(x.numpy(), y.numpy())"
      ],
      "execution_count": 15,
      "outputs": [
        {
          "output_type": "stream",
          "text": [
            "[0 1 2 3] [4]\n",
            "[1 2 3 4] [5]\n",
            "[2 3 4 5] [6]\n",
            "[3 4 5 6] [7]\n",
            "[4 5 6 7] [8]\n",
            "[5 6 7 8] [9]\n"
          ],
          "name": "stdout"
        }
      ]
    },
    {
      "cell_type": "code",
      "metadata": {
        "id": "I_0mVgEW7HeE",
        "colab_type": "code",
        "colab": {
          "base_uri": "https://localhost:8080/",
          "height": 124
        },
        "outputId": "34077683-8fdf-4cb1-9f02-2b56c0a0a0b3"
      },
      "source": [
        "#Shuffling our dataset\n",
        "\n",
        "dataset = tf.data.Dataset.range(10)\n",
        "dataset = dataset.window(5, shift = 1, drop_remainder= True)\n",
        "dataset = dataset.flat_map(lambda window: window.batch(5))\n",
        "dataset = dataset.map(lambda window: (window[:-1], window[-1:]))\n",
        "dataset = dataset.shuffle(buffer_size = 10) #Shuffling\n",
        "for x,y in dataset:\n",
        "  print(x.numpy(), y.numpy())"
      ],
      "execution_count": 17,
      "outputs": [
        {
          "output_type": "stream",
          "text": [
            "[0 1 2 3] [4]\n",
            "[4 5 6 7] [8]\n",
            "[3 4 5 6] [7]\n",
            "[2 3 4 5] [6]\n",
            "[1 2 3 4] [5]\n",
            "[5 6 7 8] [9]\n"
          ],
          "name": "stdout"
        }
      ]
    },
    {
      "cell_type": "code",
      "metadata": {
        "id": "lqvRAvWH8Q4b",
        "colab_type": "code",
        "colab": {
          "base_uri": "https://localhost:8080/",
          "height": 230
        },
        "outputId": "2a398f9c-a35c-4239-8ed0-c1564078796d"
      },
      "source": [
        "#Batching the data\n",
        "\n",
        "dataset = tf.data.Dataset.range(10)\n",
        "dataset = dataset.window(5, shift = 1, drop_remainder= True)\n",
        "dataset = dataset.flat_map(lambda window: window.batch(5))\n",
        "dataset = dataset.map(lambda window: (window[:-1], window[-1:]))\n",
        "dataset = dataset.shuffle(buffer_size = 10) #Shuffling\n",
        "dataset = dataset.batch(2).prefetch(1) #batch the data into sets of two\n",
        "for x,y in dataset:\n",
        "  #print(x.numpy(), y.numpy())\n",
        "  print(\"x = \", x.numpy())\n",
        "  print(\"y = \", y.numpy())"
      ],
      "execution_count": 20,
      "outputs": [
        {
          "output_type": "stream",
          "text": [
            "x =  [[1 2 3 4]\n",
            " [4 5 6 7]]\n",
            "y =  [[5]\n",
            " [8]]\n",
            "x =  [[3 4 5 6]\n",
            " [5 6 7 8]]\n",
            "y =  [[7]\n",
            " [9]]\n",
            "x =  [[2 3 4 5]\n",
            " [0 1 2 3]]\n",
            "y =  [[6]\n",
            " [4]]\n"
          ],
          "name": "stdout"
        }
      ]
    },
    {
      "cell_type": "code",
      "metadata": {
        "id": "m54qwnMS8fdw",
        "colab_type": "code",
        "colab": {}
      },
      "source": [
        " "
      ],
      "execution_count": null,
      "outputs": []
    }
  ]
}