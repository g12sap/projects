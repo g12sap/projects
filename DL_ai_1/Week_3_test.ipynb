{
  "nbformat": 4,
  "nbformat_minor": 0,
  "metadata": {
    "colab": {
      "name": "Week 3_test",
      "provenance": [],
      "authorship_tag": "ABX9TyMDaCej064sgxU6+T6CpeFb",
      "include_colab_link": true
    },
    "kernelspec": {
      "name": "python3",
      "display_name": "Python 3"
    },
    "accelerator": "GPU"
  },
  "cells": [
    {
      "cell_type": "markdown",
      "metadata": {
        "id": "view-in-github",
        "colab_type": "text"
      },
      "source": [
        "<a href=\"https://colab.research.google.com/github/Gth1205/projects/blob/master/Week_3_test.ipynb\" target=\"_parent\"><img src=\"https://colab.research.google.com/assets/colab-badge.svg\" alt=\"Open In Colab\"/></a>"
      ]
    },
    {
      "cell_type": "code",
      "metadata": {
        "id": "Cc51oANC5cjJ",
        "colab_type": "code",
        "colab": {}
      },
      "source": [
        "import tensorflow as tf\n",
        "\n",
        "def train_mnist_conv():\n",
        "    \n",
        "  mnist = tf.keras.datasets.mnist\n",
        "  (x_train, y_train),(x_test,y_test) = mnist.load_data()\n",
        "  x_train = x_train.reshape(60000, 28, 28, 1)  \n",
        "  x_train = x_train/255.0\n",
        "  x_test = x_test.reshape(10000,28,28,1)\n",
        "  x_test = x_test/255.0\n",
        "\n",
        "  model = tf.keras.models.Sequential([\n",
        "                                      tf.keras.layers.Conv2D(64, (3,3), activation = 'relu', input_shape = (28,28,1)),\n",
        "                                      tf.keras.layers.MaxPooling2D(2,2),\n",
        "                                      tf.keras.layers.Conv2D(64, (3,3), activation = 'relu'),\n",
        "                                      tf.keras.layers.MaxPooling2D(2,2),\n",
        "                                      tf.keras.layers.Flatten(input_shape = (28,28)),\n",
        "                                      tf.keras.layers.Dense(1024, activation = tf.nn.relu),\n",
        "                                      tf.keras.layers.Dense(10,activation = tf.nn.softmax)])\n",
        "  \n",
        "  model.compile(optimizer ='adam',\n",
        "                loss = 'sparse_categorical_crossentropy',\n",
        "                metrics =['accuracy'])\n",
        "  \n",
        "  class myCallback(tf.keras.callbacks.Callback):\n",
        "    def on_epoch_end(self, epoch, logs={}):\n",
        "      if(logs.get('accuracy')>0.95):\n",
        "        print(\"\\nReached 99% accuracy so cancelling training\")\n",
        "        self.model.stop_training = True\n",
        "\n",
        "  callbacks = myCallback()\n",
        "  model.summary()\n",
        "  model.fit(x_train,y_train, epochs = 10, callbacks = [callbacks])\n",
        "  test_loss = model.evaluate(x_test, y_test)\n",
        "  #return history.epoch, history['acc'][-1]"
      ],
      "execution_count": null,
      "outputs": []
    },
    {
      "cell_type": "code",
      "metadata": {
        "id": "2RcNTzkH7bjN",
        "colab_type": "code",
        "colab": {
          "base_uri": "https://localhost:8080/",
          "height": 739
        },
        "outputId": "b6ca1489-f5c3-48ae-8102-ffba987dde77"
      },
      "source": [
        "train_mnist_conv()"
      ],
      "execution_count": null,
      "outputs": [
        {
          "output_type": "stream",
          "text": [
            "Model: \"sequential\"\n",
            "_________________________________________________________________\n",
            "Layer (type)                 Output Shape              Param #   \n",
            "=================================================================\n",
            "conv2d (Conv2D)              (None, 26, 26, 64)        640       \n",
            "_________________________________________________________________\n",
            "max_pooling2d (MaxPooling2D) (None, 13, 13, 64)        0         \n",
            "_________________________________________________________________\n",
            "conv2d_1 (Conv2D)            (None, 11, 11, 64)        36928     \n",
            "_________________________________________________________________\n",
            "max_pooling2d_1 (MaxPooling2 (None, 5, 5, 64)          0         \n",
            "_________________________________________________________________\n",
            "flatten (Flatten)            (None, 1600)              0         \n",
            "_________________________________________________________________\n",
            "dense (Dense)                (None, 1024)              1639424   \n",
            "_________________________________________________________________\n",
            "dense_1 (Dense)              (None, 10)                10250     \n",
            "=================================================================\n",
            "Total params: 1,687,242\n",
            "Trainable params: 1,687,242\n",
            "Non-trainable params: 0\n",
            "_________________________________________________________________\n",
            "Epoch 1/10\n",
            "1875/1875 [==============================] - 113s 60ms/step - loss: 0.1035 - accuracy: 0.9678\n",
            "Epoch 2/10\n",
            "1875/1875 [==============================] - 113s 60ms/step - loss: 0.0373 - accuracy: 0.9885\n",
            "Epoch 3/10\n",
            "1875/1875 [==============================] - 113s 60ms/step - loss: 0.0245 - accuracy: 0.9921\n",
            "Epoch 4/10\n",
            "1875/1875 [==============================] - 113s 60ms/step - loss: 0.0177 - accuracy: 0.9944\n",
            "Epoch 5/10\n",
            "1875/1875 [==============================] - 113s 60ms/step - loss: 0.0124 - accuracy: 0.9959\n",
            "Epoch 6/10\n",
            "1875/1875 [==============================] - 112s 60ms/step - loss: 0.0117 - accuracy: 0.9961\n",
            "Epoch 7/10\n",
            "1875/1875 [==============================] - 112s 60ms/step - loss: 0.0080 - accuracy: 0.9974\n",
            "Epoch 8/10\n",
            "1875/1875 [==============================] - 112s 60ms/step - loss: 0.0086 - accuracy: 0.9971\n",
            "Epoch 9/10\n",
            "1875/1875 [==============================] - 112s 60ms/step - loss: 0.0065 - accuracy: 0.9980\n",
            "Epoch 10/10\n",
            "1875/1875 [==============================] - 112s 60ms/step - loss: 0.0068 - accuracy: 0.9979\n",
            "313/313 [==============================] - 5s 17ms/step - loss: 0.0458 - accuracy: 0.9909\n"
          ],
          "name": "stdout"
        }
      ]
    },
    {
      "cell_type": "code",
      "metadata": {
        "id": "Qk9DfaBa7olj",
        "colab_type": "code",
        "colab": {}
      },
      "source": [
        "import tensorflow as tf\n",
        "\n",
        "def train_mnist_conv():\n",
        "    \n",
        "    mnist = tf.keras.datasets.mnist\n",
        "    #(training_images, training_labels), (test_images, test_labels) = mnist.load_data()\n",
        "    (training_images, training_labels),(test_images,test_labels) = mnist.load_data()\n",
        "    training_images = training_images.reshape(60000, 28, 28, 1)  \n",
        "    training_images = training_images/255.0\n",
        "    test_images = test_images.reshape(10000,28,28,1)\n",
        "    test_images = test_images/255.0\n",
        "\n",
        "    model = tf.keras.models.Sequential([tf.keras.layers.Conv2D(64, (3,3), activation = 'relu', input_shape = (28,28,1)),\n",
        "                                      tf.keras.layers.MaxPooling2D(2,2),\n",
        "                                      tf.keras.layers.Flatten(input_shape = (28,28)),\n",
        "                                      tf.keras.layers.Dense(1024, activation = tf.nn.relu),\n",
        "                                      tf.keras.layers.Dense(10,activation = tf.nn.softmax)\n",
        "    ])\n",
        "\n",
        "    model.compile(optimizer='adam', loss='sparse_categorical_crossentropy', metrics=['accuracy'])\n",
        "                                                                                     \n",
        "    class myCallback(tf.keras.callbacks.Callback):\n",
        "        def on_epoch_end(self, epoch, logs={}):\n",
        "          if(logs.get('accuracy')>0.998):\n",
        "            print(\"\\nReached 99.8% accuracy so cancelling training!\")\n",
        "            self.model.stop_training = True\n",
        "    # model fitting\n",
        "    #history = model.fit(x_train,y_train, epochs = 10, callbacks = [callbacks])\n",
        "    callbacks = myCallback()\n",
        "    \n",
        "    model.fit(training_images, training_labels, epochs = 15, callbacks = [callbacks])\n",
        "    #model.summary()\n",
        "    test_loss, test_acc = model.evaluate(test_images, test_labels)\n",
        "    #print(test_loss, test_acc)"
      ],
      "execution_count": null,
      "outputs": []
    },
    {
      "cell_type": "code",
      "metadata": {
        "id": "OrMiMzD3BvxP",
        "colab_type": "code",
        "colab": {
          "base_uri": "https://localhost:8080/",
          "height": 336
        },
        "outputId": "81aaefb3-b10f-4262-ab2d-19fedcbdb95b"
      },
      "source": [
        "train_mnist_conv()"
      ],
      "execution_count": null,
      "outputs": [
        {
          "output_type": "stream",
          "text": [
            "Epoch 1/15\n",
            "1875/1875 [==============================] - 8s 4ms/step - loss: 0.1098 - accuracy: 0.9658\n",
            "Epoch 2/15\n",
            "1875/1875 [==============================] - 8s 4ms/step - loss: 0.0372 - accuracy: 0.9883\n",
            "Epoch 3/15\n",
            "1875/1875 [==============================] - 8s 4ms/step - loss: 0.0197 - accuracy: 0.9939\n",
            "Epoch 4/15\n",
            "1875/1875 [==============================] - 8s 4ms/step - loss: 0.0121 - accuracy: 0.9963\n",
            "Epoch 5/15\n",
            "1875/1875 [==============================] - 9s 5ms/step - loss: 0.0094 - accuracy: 0.9969\n",
            "Epoch 6/15\n",
            "1875/1875 [==============================] - 8s 4ms/step - loss: 0.0061 - accuracy: 0.9978\n",
            "Epoch 7/15\n",
            "1875/1875 [==============================] - 8s 4ms/step - loss: 0.0066 - accuracy: 0.9979\n",
            "Epoch 8/15\n",
            "1875/1875 [==============================] - ETA: 0s - loss: 0.0044 - accuracy: 0.9987\n",
            "Reached 99.8% accuracy so cancelling training!\n",
            "1875/1875 [==============================] - 8s 4ms/step - loss: 0.0044 - accuracy: 0.9987\n",
            "313/313 [==============================] - 1s 2ms/step - loss: 0.0651 - accuracy: 0.9864\n"
          ],
          "name": "stdout"
        }
      ]
    },
    {
      "cell_type": "code",
      "metadata": {
        "id": "mVeHeVnIB56H",
        "colab_type": "code",
        "colab": {}
      },
      "source": [
        ""
      ],
      "execution_count": null,
      "outputs": []
    }
  ]
}
