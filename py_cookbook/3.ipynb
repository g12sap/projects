{
 "cells": [
  {
   "cell_type": "markdown",
   "metadata": {},
   "source": [
    "### Keeping the Last N items ###\n",
    "\n",
    "#### Problem: Keep a limited history of the last few items seen during iteration.\n",
    "\n",
    "#### Solution:\n",
    "1. Keeping a limited history is a perfect use for a `collections.deque`.\n",
    "- Example: The below code performs a simple text match on a sequence of lines and yields the matching line along with the previous N lines of contect when found."
   ]
  },
  {
   "cell_type": "code",
   "execution_count": null,
   "metadata": {},
   "outputs": [],
   "source": []
  }
 ],
 "metadata": {
  "kernelspec": {
   "display_name": "Python 3",
   "language": "python",
   "name": "python3"
  },
  "language_info": {
   "codemirror_mode": {
    "name": "ipython",
    "version": 3
   },
   "file_extension": ".py",
   "mimetype": "text/x-python",
   "name": "python",
   "nbconvert_exporter": "python",
   "pygments_lexer": "ipython3",
   "version": "3.7.7"
  }
 },
 "nbformat": 4,
 "nbformat_minor": 4
}
