{
 "cells": [
  {
   "cell_type": "markdown",
   "metadata": {},
   "source": [
    "Instance Segmentation with Mask R-CNN and TensorFlow\n",
    "***\n",
    "Review of the Medium article: [Splash of Color: Instance Segmentation with Mask R-CNN and TensorFlow](https://engineering.matterport.com/splash-of-color-instance-segmentation-with-mask-r-cnn-and-tensorflow-7c761e238b46)\n",
    "***\n",
    "Two important topics reviewed in this article:\n",
    "1. Overview of Mask RCNN\n",
    "2. How to train a model from scratch and use it to build  a smart color splash filter.\n",
    "---\n",
    "## Instance Segmentation\n",
    "\"It is the task of identifying object outlines at the pixel level.\"\n",
    "- __It is identified as one of the hardest possible vision tasks__\n",
    "A brief overview: \n",
    "- Classification: Identifying what's the main context of the image.\n",
    "- Semantic segmentation: Clearly specifying what we are identifying in the image and focussing on it.\n",
    "- Object detection: Identifying the number of locations this context is present in this image.\n",
    "- Instance segmentation: Highlighting the context and pixels that belong to it. \n",
    "\n",
    "<mark> Need to add in more context </mark>"
   ]
  }
 ],
 "metadata": {
  "kernelspec": {
   "display_name": "Python 3",
   "language": "python",
   "name": "python3"
  },
  "language_info": {
   "codemirror_mode": {
    "name": "ipython",
    "version": 3
   },
   "file_extension": ".py",
   "mimetype": "text/x-python",
   "name": "python",
   "nbconvert_exporter": "python",
   "pygments_lexer": "ipython3",
   "version": "3.7.6"
  }
 },
 "nbformat": 4,
 "nbformat_minor": 4
}
