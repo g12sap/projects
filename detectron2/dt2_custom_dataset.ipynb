{
 "cells": [
  {
   "cell_type": "markdown",
   "metadata": {},
   "source": [
    "Referencing the document, which explains how the dataset APIs work and how to use them to add custom datasets.\n",
    "[Use Custom Datasets](https://detectron2.readthedocs.io/tutorials/datasets.html)\n",
    "***\n",
    "To have a custom dataset while reusing detectron2's data loaders, we need to:\n",
    "1. Register the dataset (i.e., tell detectron2 how to obtain the dataset)\n",
    "2. Optionally, register metadata for your dataset.\n"
   ]
  }
 ],
 "metadata": {
  "kernelspec": {
   "display_name": "Python 3",
   "language": "python",
   "name": "python3"
  },
  "language_info": {
   "codemirror_mode": {
    "name": "ipython",
    "version": 3
   },
   "file_extension": ".py",
   "mimetype": "text/x-python",
   "name": "python",
   "nbconvert_exporter": "python",
   "pygments_lexer": "ipython3",
   "version": "3.7.6"
  }
 },
 "nbformat": 4,
 "nbformat_minor": 4
}
