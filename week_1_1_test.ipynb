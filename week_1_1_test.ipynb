{
  "nbformat": 4,
  "nbformat_minor": 0,
  "metadata": {
    "colab": {
      "name": "week 1 - 1 test",
      "provenance": [],
      "collapsed_sections": [],
      "authorship_tag": "ABX9TyNUlgu1+wkzNBpUpvyYSHnP",
      "include_colab_link": true
    },
    "kernelspec": {
      "name": "python3",
      "display_name": "Python 3"
    }
  },
  "cells": [
    {
      "cell_type": "markdown",
      "metadata": {
        "id": "view-in-github",
        "colab_type": "text"
      },
      "source": [
        "<a href=\"https://colab.research.google.com/github/Gth1205/projects/blob/master/week_1_1_test.ipynb\" target=\"_parent\"><img src=\"https://colab.research.google.com/assets/colab-badge.svg\" alt=\"Open In Colab\"/></a>"
      ]
    },
    {
      "cell_type": "code",
      "metadata": {
        "id": "YqcT-9Ho0d1A",
        "colab_type": "code",
        "colab": {}
      },
      "source": [
        "import tensorflow as tf\n",
        "import numpy as np\n",
        "from tensorflow import keras"
      ],
      "execution_count": null,
      "outputs": []
    },
    {
      "cell_type": "code",
      "metadata": {
        "id": "GexE61OO0z1l",
        "colab_type": "code",
        "colab": {}
      },
      "source": [
        "#Graded function: House_model\n",
        "def house_model(y_new):\n",
        "  xs = np.array([1,2,3,4,5,6], dtype = float)\n",
        "  ys = np.array([1,1.5,2.0,2.5,3.0,3.5], dtype = float)\n",
        "  model = keras.Sequential([keras.layers.Dense(units = 1, input_shape = [1])])\n",
        "  model.compile(optimizer = 'sgd', loss = 'mean_squared_error')\n",
        "  model.fit(xs, ys, epochs = 500)\n",
        "  return model.predict(y_new)[0]\n"
      ],
      "execution_count": null,
      "outputs": []
    },
    {
      "cell_type": "code",
      "metadata": {
        "id": "UDnhqIUl2ShY",
        "colab_type": "code",
        "colab": {}
      },
      "source": [
        "prediction = house_model([7.0])\n",
        "print(prediction)"
      ],
      "execution_count": null,
      "outputs": []
    },
    {
      "cell_type": "code",
      "metadata": {
        "id": "FK3XyeN82iPg",
        "colab_type": "code",
        "colab": {}
      },
      "source": [
        ""
      ],
      "execution_count": null,
      "outputs": []
    }
  ]
}